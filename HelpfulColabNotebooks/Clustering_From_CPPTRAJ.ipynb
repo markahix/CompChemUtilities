{
  "nbformat": 4,
  "nbformat_minor": 0,
  "metadata": {
    "colab": {
      "private_outputs": true,
      "provenance": [],
      "authorship_tag": "ABX9TyOZcGxrz7LsYWyObgCV5fsL",
      "include_colab_link": true
    },
    "kernelspec": {
      "name": "python3",
      "display_name": "Python 3"
    },
    "language_info": {
      "name": "python"
    }
  },
  "cells": [
    {
      "cell_type": "markdown",
      "metadata": {
        "id": "view-in-github",
        "colab_type": "text"
      },
      "source": [
        "<a href=\"https://colab.research.google.com/github/markahix/CompChemUtilities/blob/main/HelpfulColabNotebooks/Clustering_From_CPPTRAJ.ipynb\" target=\"_parent\"><img src=\"https://colab.research.google.com/assets/colab-badge.svg\" alt=\"Open In Colab\"/></a>"
      ]
    },
    {
      "cell_type": "markdown",
      "source": [
        "# CPPTRAJ Clustering to Scatter Plot\n",
        "\n",
        "CPPTRAJ can perform clustering analyses on molecular dynamics trajectories, grouping individual frames together based on user-defined metrics such as RMSD of the system or the distance between two atoms.  This clustering clustering can be visualized using the cells below.  It is assumed that the metrics used for clustering were also saved by CPPTRAJ as individual datafiles, and that the user has retained the clustering summary file offered by CPPTRAJ as part of the clustering command.\n",
        "\n",
        "The user may also select a named matplotlib colormap (including on of their own design if they so choose) which will provide individual clusters a unique color for easy identification on the plot.  Each cluster's representative frame is also highlighted on the plot as a white circle with black outline.  This is to assist the user in seeing *how* representative of the cluster the given frame is - whether is it centrally located or off to one side.\n",
        "\n",
        "This is intended to provide an easy visualization for how the clusters are distributed in a given algorithm and number of clusters, metrics chosen, etc.  Plots may also be saved automatically by including a value for the output keyword."
      ],
      "metadata": {
        "id": "aZqjptB8_d8g"
      }
    },
    {
      "cell_type": "code",
      "execution_count": null,
      "metadata": {
        "id": "7r0JioCK_bir",
        "cellView": "form"
      },
      "outputs": [],
      "source": [
        "#@markdown ## Notebook Setup\n",
        "\n",
        "#@markdown ---\n",
        "#@markdown Run this cell to import libraries and define functions.\n",
        "\n",
        "#@markdown ---\n",
        "import numpy as np\n",
        "import matplotlib.pyplot as plt\n",
        "import matplotlib.cm as cm\n",
        "import argparse\n",
        "\n",
        "def PlotClusters(Xdata,Ydata,Cdata,summary,ax=None,colormap=\"viridis\"):\n",
        "    if ax == None:\n",
        "        ax = plt.gca()\n",
        "    cmap = cm.get_cmap(colormap)\n",
        "    color_range = np.linspace(0,1,len(set(Cdata)))\n",
        "    ax.scatter(Xdata,Ydata,color=cmap(color_range[cnum_data]),marker=\".\",alpha=0.8)\n",
        "    for i in range(len(summary)):\n",
        "        ax.scatter(Xdata[summary[i]-1],Ydata[summary[i]-1],color=\"white\",edgecolor=\"black\",marker=\"o\")\n",
        "\n",
        "\n",
        "def Get_Cluster_Data(Xfile,Yfile,Ctimefile,Csummaryfile):\n",
        "    Xdata = np.genfromtxt(Xfile,usecols=1,skip_header=1)\n",
        "    Ydata = np.genfromtxt(Yfile,usecols=1,skip_header=1)\n",
        "    Cdata = np.genfromtxt(Ctimefile,usecols=1,skip_header=1,dtype=int)\n",
        "    summary = np.genfromtxt(Csummaryfile,usecols=5,skip_header=1,dtype=int)#[1:]\n",
        "    return Xdata,Ydata,Cdata,summary\n",
        "\n",
        "def Main(xfile,yfile,cfile,summary,colormap,output=None):\n",
        "    Xdata,Ydata,Cdata,summary = Get_Cluster_Data(xfile,yfile,cfile,summary)\n",
        "    fig = plt.figure(figsize=[8,5],dpi=300)\n",
        "    ax = fig.add_subplot(111)\n",
        "    PlotClusters(Xdata,Ydata,Cdata,summary,ax,colormap)\n",
        "    ax.set_xlabel(xfile)\n",
        "    ax.set_ylabel(yfile)\n",
        "    if output != None:\n",
        "        fig.savefig(output,dpi=300,facecolor=\"white\")\n"
      ]
    },
    {
      "cell_type": "code",
      "source": [
        "#@markdown ## Google Drive Setup and File Locations\n",
        "#@markdown This cell will mount your Google Drive and allow you to access the data stored there.\n",
        "#@markdown The first time you run this cell, it will prompt you to authorize access to your Google Drive.\n",
        "#@markdown You may list the filenames in the fields below.\n",
        "#Google Drive libraries and directory mount.\n",
        "from google.colab import drive\n",
        "drive.flush_and_unmount()\n",
        "drive.mount('/content/drive/', force_remount=True)\n",
        "#@markdown ---\n",
        "#@markdown Directory Information in Google Drive\n",
        "Directory = 'Project_Data/' #@param {type:\"string\"}\n",
        "Metric1File              = \"\" #@param{type:\"string\"}\n",
        "Metric2File              = \"\" #@param{type:\"string\"}\n",
        "ClusterNumberingDataFile = \"\" #@param{type:\"string\"}\n",
        "ClusteringSummaryFile    = \"\" #@param{type:\"string\"}\n",
        "ColorMap                 = \"viridis\" #@param ['Accent', 'Accent_r', 'Blues', 'Blues_r', 'BrBG', 'BrBG_r', 'BuGn', 'BuGn_r', 'BuPu', 'BuPu_r', 'CMRmap', 'CMRmap_r', 'Dark2', 'Dark2_r', 'GnBu', 'GnBu_r', 'Greens', 'Greens_r', 'Greys', 'Greys_r', 'OrRd', 'OrRd_r', 'Oranges', 'Oranges_r', 'PRGn', 'PRGn_r', 'Paired', 'Paired_r', 'Pastel1', 'Pastel1_r', 'Pastel2', 'Pastel2_r', 'PiYG', 'PiYG_r', 'PuBu', 'PuBuGn', 'PuBuGn_r', 'PuBu_r', 'PuOr', 'PuOr_r', 'PuRd', 'PuRd_r', 'Purples', 'Purples_r', 'RdBu', 'RdBu_r', 'RdGy', 'RdGy_r', 'RdPu', 'RdPu_r', 'RdYlBu', 'RdYlBu_r', 'RdYlGn', 'RdYlGn_r', 'Reds', 'Reds_r', 'Set1', 'Set1_r', 'Set2', 'Set2_r', 'Set3', 'Set3_r', 'Spectral', 'Spectral_r', 'Wistia', 'Wistia_r', 'YlGn', 'YlGnBu', 'YlGnBu_r', 'YlGn_r', 'YlOrBr', 'YlOrBr_r', 'YlOrRd', 'YlOrRd_r', 'afmhot', 'afmhot_r', 'autumn', 'autumn_r', 'binary', 'binary_r', 'bone', 'bone_r', 'brg', 'brg_r', 'bwr', 'bwr_r', 'cividis', 'cividis_r', 'cool', 'cool_r', 'coolwarm', 'coolwarm_r', 'copper', 'copper_r', 'cubehelix', 'cubehelix_r', 'flag', 'flag_r', 'gist_earth', 'gist_earth_r', 'gist_gray', 'gist_gray_r', 'gist_heat', 'gist_heat_r', 'gist_ncar', 'gist_ncar_r', 'gist_rainbow', 'gist_rainbow_r', 'gist_stern', 'gist_stern_r', 'gist_yarg', 'gist_yarg_r', 'gnuplot', 'gnuplot2', 'gnuplot2_r', 'gnuplot_r', 'gray', 'gray_r', 'hot', 'hot_r', 'hsv', 'hsv_r', 'inferno', 'inferno_r', 'jet', 'jet_r', 'magma', 'magma_r', 'nipy_spectral', 'nipy_spectral_r', 'ocean', 'ocean_r', 'pink', 'pink_r', 'plasma', 'plasma_r', 'prism', 'prism_r', 'rainbow', 'rainbow_r', 'seismic', 'seismic_r', 'spring', 'spring_r', 'summer', 'summer_r', 'tab10', 'tab10_r', 'tab20', 'tab20_r', 'tab20b', 'tab20b_r', 'tab20c', 'tab20c_r', 'terrain', 'terrain_r', 'turbo', 'turbo_r', 'twilight', 'twilight_r', 'twilight_shifted', 'twilight_shifted_r', 'viridis', 'viridis_r', 'winter', 'winter_r']\n",
        "ImageFile                = \"output.png\"#@param{type:\"string\"}\n",
        "#@markdown ---\n",
        "workDir = \"/content/drive/MyDrive/\"+Directory\n",
        "metric_1_file      = workDir + Metric1File\n",
        "metric_2_file      = workDir + Metric2File\n",
        "cnum_data_file     = workDir + ClusterNumberingDataFile\n",
        "clust_summary_file = workDir + ClusteringSummaryFile\n",
        "colormap           = ColorMap\n",
        "output_image       = workDir + ImageFile"
      ],
      "metadata": {
        "id": "T7cSXsWg_qfN",
        "cellView": "form"
      },
      "execution_count": null,
      "outputs": []
    },
    {
      "cell_type": "code",
      "source": [
        "#@markdown ## Scatter Plot Generation\n",
        "#@markdown Run this cell to process the files listed above and produce an image.\n",
        "#@markdown The image will be saved into your Google Drive folder.\n",
        "Main(metric_1_file,metric_2_file,cnum_data_file,clust_summary_file,colormap,output_image)"
      ],
      "metadata": {
        "id": "MU8f12IyCrsa",
        "cellView": "form"
      },
      "execution_count": null,
      "outputs": []
    }
  ]
}